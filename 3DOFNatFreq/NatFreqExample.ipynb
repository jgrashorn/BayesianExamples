{
 "cells": [
  {
   "cell_type": "code",
   "execution_count": null,
   "metadata": {},
   "outputs": [
    {
     "ename": "",
     "evalue": "",
     "output_type": "error",
     "traceback": [
      "\u001b[1;31mRunning cells with '/bin/python3' requires the ipykernel package.\n",
      "\u001b[1;31mRun the following command to install 'ipykernel' into the Python environment. \n",
      "\u001b[1;31mCommand: '/bin/python3 -m pip install ipykernel -U --user --force-reinstall'"
     ]
    }
   ],
   "source": [
    "import numpy as np\n",
    "from scipy.stats import norm\n",
    "import scipy.linalg as la\n",
    "import pymc3 as pm\n",
    "\n",
    "def GetData():\n",
    "    input = np.genfromtxt(\"input.csv\",delimiter=',')\n",
    "    output = np.genfromtxt(\"output.csv\",delimiter=',')\n",
    "    return (input,output)\n",
    "\n",
    "def Model(x):\n",
    "    k1 = x[0]\n",
    "    k2 = 1500.0\n",
    "    k3 = 1500.0\n",
    "    k4 = x[1]\n",
    "    \n",
    "    m = 100\n",
    "    \n",
    "    # masses\n",
    "    m1 = m\n",
    "    m2 = 2*m\n",
    "    m3 = 3*m\n",
    "    \n",
    "    M = np.array([[m1,0,0],[0,m2,0],[0,0,m3]])\n",
    "    K = np.array([[k1+k2,-k2,0],[-k2,k2+k3,-k3],[0,-k3,k3+k4]])\n",
    "    # some algorihtm to find the eigenvalues from (K-lambda*M) = 0 (I forgot the source sorry)\n",
    "    a = -m1*m2*m3\n",
    "    b = K[0,0]*m2*m3+m1*K[1,1]*m3 + m1*m2*K[2,2]\n",
    "    c = -K[0,0]*K[1,1]*m3 - K[0,0]*K[2,2]*m2 - K[1,1]*K[2,2]*m1+K[1,2]*K[2,1]*m1+K[0,1]*K[1,0]*m3\n",
    "    d = K[0,0]*K[1,1]*K[2,2]-K[0,0]*K[1,2]*K[2,1]-K[0,1]*K[1,0]*K[2,2]\n",
    "    \n",
    "    p = 3*a*c-b**2\n",
    "    q = 2*b**3-9*a*b*c+27*a**2*d\n",
    "    phi = np.arccos(-q/(2*np.sqrt(-p**3)))\n",
    "    y = np.sqrt(-p)*2*np.cos(phi/3+np.array([0,1,2])*2*np.pi/(3))\n",
    "\n",
    "    return (y-b)/(3*a) # 1x3 array with the natural frequencies\n",
    "\n",
    "def NatFreqExample_LogLikelihood_SN(theta,data,sigma): # likelihood for standard-normal distributed theta\n",
    "    theta_phys = 500 + norm.cdf(theta)*3000 # theta ~ U(500,3500)\n",
    "    return np.log(1/(np.sqrt(2*np.pi*sigma**2))) * np.sum(-(Model(theta_phys)/data)**2/(2*sigma**2))\n",
    "\n",
    "def NatFreqExample_LogLikelihood_Phys(theta,data,sigma): # likelihood for theta in physical space\n",
    "    return np.log(1/(np.sqrt(2*np.pi*sigma**2))) * np.sum(-(Model(theta)/data)**2/(2*sigma**2))"
   ]
  },
  {
   "cell_type": "code",
   "execution_count": 2,
   "metadata": {},
   "outputs": [
    {
     "name": "stdout",
     "output_type": "stream",
     "text": [
      "\n",
      "You can find the C code in this temporary file: /tmp/theano_compilation_error_qtgln1r_\n"
     ]
    },
    {
     "ename": "Exception",
     "evalue": "(\"Compilation failed (return status=1): /usr/bin/ld: /home/jan/.pyenv/versions/3.8.10/lib/libpython3.8.a(obmalloc.o): relocation R_X86_64_PC32 against symbol `stderr@@GLIBC_2.2.5' can not be used when making a shared object; recompile with -fPIC. /usr/bin/ld: final link failed: bad value. collect2: error: ld returned 1 exit status. \", 'FunctionGraph(Elemwise{true_div,no_inplace}(TensorConstant{1.0}, TensorConstant{1.0}))')",
     "output_type": "error",
     "traceback": [
      "\u001b[0;31m---------------------------------------------------------------------------\u001b[0m",
      "\u001b[0;31mException\u001b[0m                                 Traceback (most recent call last)",
      "\u001b[1;32m/media/jan/Data/Research/Student projects/SFEM_BMU/NatFrequencies/NatFreqExample.ipynb Cell 2\u001b[0m in \u001b[0;36m<cell line: 3>\u001b[0;34m()\u001b[0m\n\u001b[1;32m      <a href='vscode-notebook-cell:/media/jan/Data/Research/Student%20projects/SFEM_BMU/NatFrequencies/NatFreqExample.ipynb#W1sZmlsZQ%3D%3D?line=0'>1</a>\u001b[0m \u001b[39minput\u001b[39m, output \u001b[39m=\u001b[39m GetData()\n\u001b[1;32m      <a href='vscode-notebook-cell:/media/jan/Data/Research/Student%20projects/SFEM_BMU/NatFrequencies/NatFreqExample.ipynb#W1sZmlsZQ%3D%3D?line=2'>3</a>\u001b[0m \u001b[39mwith\u001b[39;00m pm\u001b[39m.\u001b[39mModel() \u001b[39mas\u001b[39;00m model:\n\u001b[1;32m      <a href='vscode-notebook-cell:/media/jan/Data/Research/Student%20projects/SFEM_BMU/NatFrequencies/NatFreqExample.ipynb#W1sZmlsZQ%3D%3D?line=3'>4</a>\u001b[0m     \u001b[39m# sigma = 1e-1\u001b[39;00m\n\u001b[0;32m----> <a href='vscode-notebook-cell:/media/jan/Data/Research/Student%20projects/SFEM_BMU/NatFrequencies/NatFreqExample.ipynb#W1sZmlsZQ%3D%3D?line=4'>5</a>\u001b[0m     k1 \u001b[39m=\u001b[39m pm\u001b[39m.\u001b[39;49mNormal(\u001b[39m\"\u001b[39;49m\u001b[39mk1\u001b[39;49m\u001b[39m\"\u001b[39;49m, mu\u001b[39m=\u001b[39;49m\u001b[39m0\u001b[39;49m, sigma\u001b[39m=\u001b[39;49m\u001b[39m1\u001b[39;49m)\n\u001b[1;32m      <a href='vscode-notebook-cell:/media/jan/Data/Research/Student%20projects/SFEM_BMU/NatFrequencies/NatFreqExample.ipynb#W1sZmlsZQ%3D%3D?line=5'>6</a>\u001b[0m     k2 \u001b[39m=\u001b[39m pm\u001b[39m.\u001b[39mNormal(\u001b[39m\"\u001b[39m\u001b[39mk2\u001b[39m\u001b[39m\"\u001b[39m, mu\u001b[39m=\u001b[39m\u001b[39m0\u001b[39m, sigma\u001b[39m=\u001b[39m\u001b[39m1\u001b[39m)\n\u001b[1;32m      <a href='vscode-notebook-cell:/media/jan/Data/Research/Student%20projects/SFEM_BMU/NatFrequencies/NatFreqExample.ipynb#W1sZmlsZQ%3D%3D?line=6'>7</a>\u001b[0m     obs \u001b[39m=\u001b[39m pm\u001b[39m.\u001b[39mMvNormal(\u001b[39m\"\u001b[39m\u001b[39mobs\u001b[39m\u001b[39m\"\u001b[39m, mu \u001b[39m=\u001b[39m np\u001b[39m.\u001b[39marray([k1,k2]), cov \u001b[39m=\u001b[39m sigma \u001b[39m*\u001b[39m np\u001b[39m.\u001b[39meye(\u001b[39m2\u001b[39m), observed \u001b[39m=\u001b[39m output)\n",
      "File \u001b[0;32m~/.pyenv/versions/3.8.10/lib/python3.8/site-packages/pymc3/distributions/distribution.py:124\u001b[0m, in \u001b[0;36mDistribution.__new__\u001b[0;34m(cls, name, *args, **kwargs)\u001b[0m\n\u001b[1;32m    122\u001b[0m     dist \u001b[39m=\u001b[39m \u001b[39mcls\u001b[39m\u001b[39m.\u001b[39mdist(\u001b[39m*\u001b[39margs, \u001b[39m*\u001b[39m\u001b[39m*\u001b[39mkwargs, shape\u001b[39m=\u001b[39mshape)\n\u001b[1;32m    123\u001b[0m \u001b[39melse\u001b[39;00m:\n\u001b[0;32m--> 124\u001b[0m     dist \u001b[39m=\u001b[39m \u001b[39mcls\u001b[39;49m\u001b[39m.\u001b[39;49mdist(\u001b[39m*\u001b[39;49margs, \u001b[39m*\u001b[39;49m\u001b[39m*\u001b[39;49mkwargs)\n\u001b[1;32m    125\u001b[0m \u001b[39mreturn\u001b[39;00m model\u001b[39m.\u001b[39mVar(name, dist, data, total_size, dims\u001b[39m=\u001b[39mdims)\n",
      "File \u001b[0;32m~/.pyenv/versions/3.8.10/lib/python3.8/site-packages/pymc3/distributions/distribution.py:133\u001b[0m, in \u001b[0;36mDistribution.dist\u001b[0;34m(cls, *args, **kwargs)\u001b[0m\n\u001b[1;32m    130\u001b[0m \u001b[39m@classmethod\u001b[39m\n\u001b[1;32m    131\u001b[0m \u001b[39mdef\u001b[39;00m \u001b[39mdist\u001b[39m(\u001b[39mcls\u001b[39m, \u001b[39m*\u001b[39margs, \u001b[39m*\u001b[39m\u001b[39m*\u001b[39mkwargs):\n\u001b[1;32m    132\u001b[0m     dist \u001b[39m=\u001b[39m \u001b[39mobject\u001b[39m\u001b[39m.\u001b[39m\u001b[39m__new__\u001b[39m(\u001b[39mcls\u001b[39m)\n\u001b[0;32m--> 133\u001b[0m     dist\u001b[39m.\u001b[39;49m\u001b[39m__init__\u001b[39;49m(\u001b[39m*\u001b[39;49margs, \u001b[39m*\u001b[39;49m\u001b[39m*\u001b[39;49mkwargs)\n\u001b[1;32m    134\u001b[0m     \u001b[39mreturn\u001b[39;00m dist\n",
      "File \u001b[0;32m~/.pyenv/versions/3.8.10/lib/python3.8/site-packages/pymc3/distributions/continuous.py:488\u001b[0m, in \u001b[0;36mNormal.__init__\u001b[0;34m(self, mu, sigma, tau, sd, **kwargs)\u001b[0m\n\u001b[1;32m    485\u001b[0m \u001b[39mself\u001b[39m\u001b[39m.\u001b[39mtau \u001b[39m=\u001b[39m tt\u001b[39m.\u001b[39mas_tensor_variable(tau)\n\u001b[1;32m    487\u001b[0m \u001b[39mself\u001b[39m\u001b[39m.\u001b[39mmean \u001b[39m=\u001b[39m \u001b[39mself\u001b[39m\u001b[39m.\u001b[39mmedian \u001b[39m=\u001b[39m \u001b[39mself\u001b[39m\u001b[39m.\u001b[39mmode \u001b[39m=\u001b[39m \u001b[39mself\u001b[39m\u001b[39m.\u001b[39mmu \u001b[39m=\u001b[39m mu \u001b[39m=\u001b[39m tt\u001b[39m.\u001b[39mas_tensor_variable(floatX(mu))\n\u001b[0;32m--> 488\u001b[0m \u001b[39mself\u001b[39m\u001b[39m.\u001b[39mvariance \u001b[39m=\u001b[39m \u001b[39m1.0\u001b[39;49m \u001b[39m/\u001b[39;49m \u001b[39mself\u001b[39;49m\u001b[39m.\u001b[39;49mtau\n\u001b[1;32m    490\u001b[0m assert_negative_support(sigma, \u001b[39m\"\u001b[39m\u001b[39msigma\u001b[39m\u001b[39m\"\u001b[39m, \u001b[39m\"\u001b[39m\u001b[39mNormal\u001b[39m\u001b[39m\"\u001b[39m)\n\u001b[1;32m    491\u001b[0m assert_negative_support(tau, \u001b[39m\"\u001b[39m\u001b[39mtau\u001b[39m\u001b[39m\"\u001b[39m, \u001b[39m\"\u001b[39m\u001b[39mNormal\u001b[39m\u001b[39m\"\u001b[39m)\n",
      "File \u001b[0;32m~/.pyenv/versions/3.8.10/lib/python3.8/site-packages/theano/tensor/var.py:176\u001b[0m, in \u001b[0;36m_tensor_py_operators.__rtruediv__\u001b[0;34m(self, other)\u001b[0m\n\u001b[1;32m    175\u001b[0m \u001b[39mdef\u001b[39;00m \u001b[39m__rtruediv__\u001b[39m(\u001b[39mself\u001b[39m, other):\n\u001b[0;32m--> 176\u001b[0m     \u001b[39mreturn\u001b[39;00m theano\u001b[39m.\u001b[39;49mtensor\u001b[39m.\u001b[39;49mbasic\u001b[39m.\u001b[39;49mtrue_div(other, \u001b[39mself\u001b[39;49m)\n",
      "File \u001b[0;32m~/.pyenv/versions/3.8.10/lib/python3.8/site-packages/theano/graph/op.py:253\u001b[0m, in \u001b[0;36mOp.__call__\u001b[0;34m(self, *inputs, **kwargs)\u001b[0m\n\u001b[1;32m    250\u001b[0m node \u001b[39m=\u001b[39m \u001b[39mself\u001b[39m\u001b[39m.\u001b[39mmake_node(\u001b[39m*\u001b[39minputs, \u001b[39m*\u001b[39m\u001b[39m*\u001b[39mkwargs)\n\u001b[1;32m    252\u001b[0m \u001b[39mif\u001b[39;00m config\u001b[39m.\u001b[39mcompute_test_value \u001b[39m!=\u001b[39m \u001b[39m\"\u001b[39m\u001b[39moff\u001b[39m\u001b[39m\"\u001b[39m:\n\u001b[0;32m--> 253\u001b[0m     compute_test_value(node)\n\u001b[1;32m    255\u001b[0m \u001b[39mif\u001b[39;00m \u001b[39mself\u001b[39m\u001b[39m.\u001b[39mdefault_output \u001b[39mis\u001b[39;00m \u001b[39mnot\u001b[39;00m \u001b[39mNone\u001b[39;00m:\n\u001b[1;32m    256\u001b[0m     rval \u001b[39m=\u001b[39m node\u001b[39m.\u001b[39moutputs[\u001b[39mself\u001b[39m\u001b[39m.\u001b[39mdefault_output]\n",
      "File \u001b[0;32m~/.pyenv/versions/3.8.10/lib/python3.8/site-packages/theano/graph/op.py:126\u001b[0m, in \u001b[0;36mcompute_test_value\u001b[0;34m(node)\u001b[0m\n\u001b[1;32m    123\u001b[0m     compute_map[o] \u001b[39m=\u001b[39m [\u001b[39mFalse\u001b[39;00m]\n\u001b[1;32m    125\u001b[0m \u001b[39m# Create a thunk that performs the computation\u001b[39;00m\n\u001b[0;32m--> 126\u001b[0m thunk \u001b[39m=\u001b[39m node\u001b[39m.\u001b[39;49mop\u001b[39m.\u001b[39;49mmake_thunk(node, storage_map, compute_map, no_recycling\u001b[39m=\u001b[39;49m[])\n\u001b[1;32m    127\u001b[0m thunk\u001b[39m.\u001b[39minputs \u001b[39m=\u001b[39m [storage_map[v] \u001b[39mfor\u001b[39;00m v \u001b[39min\u001b[39;00m node\u001b[39m.\u001b[39minputs]\n\u001b[1;32m    128\u001b[0m thunk\u001b[39m.\u001b[39moutputs \u001b[39m=\u001b[39m [storage_map[v] \u001b[39mfor\u001b[39;00m v \u001b[39min\u001b[39;00m node\u001b[39m.\u001b[39moutputs]\n",
      "File \u001b[0;32m~/.pyenv/versions/3.8.10/lib/python3.8/site-packages/theano/graph/op.py:634\u001b[0m, in \u001b[0;36mCOp.make_thunk\u001b[0;34m(self, node, storage_map, compute_map, no_recycling, impl)\u001b[0m\n\u001b[1;32m    630\u001b[0m \u001b[39mself\u001b[39m\u001b[39m.\u001b[39mprepare_node(\n\u001b[1;32m    631\u001b[0m     node, storage_map\u001b[39m=\u001b[39mstorage_map, compute_map\u001b[39m=\u001b[39mcompute_map, impl\u001b[39m=\u001b[39m\u001b[39m\"\u001b[39m\u001b[39mc\u001b[39m\u001b[39m\"\u001b[39m\n\u001b[1;32m    632\u001b[0m )\n\u001b[1;32m    633\u001b[0m \u001b[39mtry\u001b[39;00m:\n\u001b[0;32m--> 634\u001b[0m     \u001b[39mreturn\u001b[39;00m \u001b[39mself\u001b[39;49m\u001b[39m.\u001b[39;49mmake_c_thunk(node, storage_map, compute_map, no_recycling)\n\u001b[1;32m    635\u001b[0m \u001b[39mexcept\u001b[39;00m (\u001b[39mNotImplementedError\u001b[39;00m, MethodNotDefined):\n\u001b[1;32m    636\u001b[0m     \u001b[39m# We requested the c code, so don't catch the error.\u001b[39;00m\n\u001b[1;32m    637\u001b[0m     \u001b[39mif\u001b[39;00m impl \u001b[39m==\u001b[39m \u001b[39m\"\u001b[39m\u001b[39mc\u001b[39m\u001b[39m\"\u001b[39m:\n",
      "File \u001b[0;32m~/.pyenv/versions/3.8.10/lib/python3.8/site-packages/theano/graph/op.py:600\u001b[0m, in \u001b[0;36mCOp.make_c_thunk\u001b[0;34m(self, node, storage_map, compute_map, no_recycling)\u001b[0m\n\u001b[1;32m    598\u001b[0m         \u001b[39mprint\u001b[39m(\u001b[39mf\u001b[39m\u001b[39m\"\u001b[39m\u001b[39mDisabling C code for \u001b[39m\u001b[39m{\u001b[39;00m\u001b[39mself\u001b[39m\u001b[39m}\u001b[39;00m\u001b[39m due to unsupported float16\u001b[39m\u001b[39m\"\u001b[39m)\n\u001b[1;32m    599\u001b[0m         \u001b[39mraise\u001b[39;00m \u001b[39mNotImplementedError\u001b[39;00m(\u001b[39m\"\u001b[39m\u001b[39mfloat16\u001b[39m\u001b[39m\"\u001b[39m)\n\u001b[0;32m--> 600\u001b[0m outputs \u001b[39m=\u001b[39m cl\u001b[39m.\u001b[39;49mmake_thunk(\n\u001b[1;32m    601\u001b[0m     input_storage\u001b[39m=\u001b[39;49mnode_input_storage, output_storage\u001b[39m=\u001b[39;49mnode_output_storage\n\u001b[1;32m    602\u001b[0m )\n\u001b[1;32m    603\u001b[0m thunk, node_input_filters, node_output_filters \u001b[39m=\u001b[39m outputs\n\u001b[1;32m    605\u001b[0m \u001b[39mdef\u001b[39;00m \u001b[39mrval\u001b[39m():\n",
      "File \u001b[0;32m~/.pyenv/versions/3.8.10/lib/python3.8/site-packages/theano/link/c/basic.py:1203\u001b[0m, in \u001b[0;36mCLinker.make_thunk\u001b[0;34m(self, input_storage, output_storage, storage_map)\u001b[0m\n\u001b[1;32m   1175\u001b[0m \u001b[39m\"\"\"\u001b[39;00m\n\u001b[1;32m   1176\u001b[0m \u001b[39mCompiles this linker's fgraph and returns a function to perform the\u001b[39;00m\n\u001b[1;32m   1177\u001b[0m \u001b[39mcomputations, as well as lists of storage cells for both the inputs\u001b[39;00m\n\u001b[0;32m   (...)\u001b[0m\n\u001b[1;32m   1200\u001b[0m \u001b[39m  first_output = ostor[0].data\u001b[39;00m\n\u001b[1;32m   1201\u001b[0m \u001b[39m\"\"\"\u001b[39;00m\n\u001b[1;32m   1202\u001b[0m init_tasks, tasks \u001b[39m=\u001b[39m \u001b[39mself\u001b[39m\u001b[39m.\u001b[39mget_init_tasks()\n\u001b[0;32m-> 1203\u001b[0m cthunk, module, in_storage, out_storage, error_storage \u001b[39m=\u001b[39m \u001b[39mself\u001b[39;49m\u001b[39m.\u001b[39;49m__compile__(\n\u001b[1;32m   1204\u001b[0m     input_storage, output_storage, storage_map\n\u001b[1;32m   1205\u001b[0m )\n\u001b[1;32m   1207\u001b[0m res \u001b[39m=\u001b[39m _CThunk(cthunk, init_tasks, tasks, error_storage, module)\n\u001b[1;32m   1208\u001b[0m res\u001b[39m.\u001b[39mnodes \u001b[39m=\u001b[39m \u001b[39mself\u001b[39m\u001b[39m.\u001b[39mnode_order\n",
      "File \u001b[0;32m~/.pyenv/versions/3.8.10/lib/python3.8/site-packages/theano/link/c/basic.py:1138\u001b[0m, in \u001b[0;36mCLinker.__compile__\u001b[0;34m(self, input_storage, output_storage, storage_map)\u001b[0m\n\u001b[1;32m   1136\u001b[0m input_storage \u001b[39m=\u001b[39m \u001b[39mtuple\u001b[39m(input_storage)\n\u001b[1;32m   1137\u001b[0m output_storage \u001b[39m=\u001b[39m \u001b[39mtuple\u001b[39m(output_storage)\n\u001b[0;32m-> 1138\u001b[0m thunk, module \u001b[39m=\u001b[39m \u001b[39mself\u001b[39;49m\u001b[39m.\u001b[39;49mcthunk_factory(\n\u001b[1;32m   1139\u001b[0m     error_storage,\n\u001b[1;32m   1140\u001b[0m     input_storage,\n\u001b[1;32m   1141\u001b[0m     output_storage,\n\u001b[1;32m   1142\u001b[0m     storage_map,\n\u001b[1;32m   1143\u001b[0m )\n\u001b[1;32m   1144\u001b[0m \u001b[39mreturn\u001b[39;00m (\n\u001b[1;32m   1145\u001b[0m     thunk,\n\u001b[1;32m   1146\u001b[0m     module,\n\u001b[0;32m   (...)\u001b[0m\n\u001b[1;32m   1155\u001b[0m     error_storage,\n\u001b[1;32m   1156\u001b[0m )\n",
      "File \u001b[0;32m~/.pyenv/versions/3.8.10/lib/python3.8/site-packages/theano/link/c/basic.py:1634\u001b[0m, in \u001b[0;36mCLinker.cthunk_factory\u001b[0;34m(self, error_storage, in_storage, out_storage, storage_map)\u001b[0m\n\u001b[1;32m   1632\u001b[0m     \u001b[39mfor\u001b[39;00m node \u001b[39min\u001b[39;00m \u001b[39mself\u001b[39m\u001b[39m.\u001b[39mnode_order:\n\u001b[1;32m   1633\u001b[0m         node\u001b[39m.\u001b[39mop\u001b[39m.\u001b[39mprepare_node(node, storage_map, \u001b[39mNone\u001b[39;00m, \u001b[39m\"\u001b[39m\u001b[39mc\u001b[39m\u001b[39m\"\u001b[39m)\n\u001b[0;32m-> 1634\u001b[0m     module \u001b[39m=\u001b[39m get_module_cache()\u001b[39m.\u001b[39;49mmodule_from_key(key\u001b[39m=\u001b[39;49mkey, lnk\u001b[39m=\u001b[39;49m\u001b[39mself\u001b[39;49m)\n\u001b[1;32m   1636\u001b[0m \u001b[39mvars\u001b[39m \u001b[39m=\u001b[39m \u001b[39mself\u001b[39m\u001b[39m.\u001b[39minputs \u001b[39m+\u001b[39m \u001b[39mself\u001b[39m\u001b[39m.\u001b[39moutputs \u001b[39m+\u001b[39m \u001b[39mself\u001b[39m\u001b[39m.\u001b[39morphans\n\u001b[1;32m   1637\u001b[0m \u001b[39m# List of indices that should be ignored when passing the arguments\u001b[39;00m\n\u001b[1;32m   1638\u001b[0m \u001b[39m# (basically, everything that the previous call to uniq eliminated)\u001b[39;00m\n",
      "File \u001b[0;32m~/.pyenv/versions/3.8.10/lib/python3.8/site-packages/theano/link/c/cmodule.py:1191\u001b[0m, in \u001b[0;36mModuleCache.module_from_key\u001b[0;34m(self, key, lnk)\u001b[0m\n\u001b[1;32m   1189\u001b[0m \u001b[39mtry\u001b[39;00m:\n\u001b[1;32m   1190\u001b[0m     location \u001b[39m=\u001b[39m dlimport_workdir(\u001b[39mself\u001b[39m\u001b[39m.\u001b[39mdirname)\n\u001b[0;32m-> 1191\u001b[0m     module \u001b[39m=\u001b[39m lnk\u001b[39m.\u001b[39;49mcompile_cmodule(location)\n\u001b[1;32m   1192\u001b[0m     name \u001b[39m=\u001b[39m module\u001b[39m.\u001b[39m\u001b[39m__file__\u001b[39m\n\u001b[1;32m   1193\u001b[0m     \u001b[39massert\u001b[39;00m name\u001b[39m.\u001b[39mstartswith(location)\n",
      "File \u001b[0;32m~/.pyenv/versions/3.8.10/lib/python3.8/site-packages/theano/link/c/basic.py:1543\u001b[0m, in \u001b[0;36mCLinker.compile_cmodule\u001b[0;34m(self, location)\u001b[0m\n\u001b[1;32m   1541\u001b[0m \u001b[39mtry\u001b[39;00m:\n\u001b[1;32m   1542\u001b[0m     _logger\u001b[39m.\u001b[39mdebug(\u001b[39mf\u001b[39m\u001b[39m\"\u001b[39m\u001b[39mLOCATION \u001b[39m\u001b[39m{\u001b[39;00mlocation\u001b[39m}\u001b[39;00m\u001b[39m\"\u001b[39m)\n\u001b[0;32m-> 1543\u001b[0m     module \u001b[39m=\u001b[39m c_compiler\u001b[39m.\u001b[39;49mcompile_str(\n\u001b[1;32m   1544\u001b[0m         module_name\u001b[39m=\u001b[39;49mmod\u001b[39m.\u001b[39;49mcode_hash,\n\u001b[1;32m   1545\u001b[0m         src_code\u001b[39m=\u001b[39;49msrc_code,\n\u001b[1;32m   1546\u001b[0m         location\u001b[39m=\u001b[39;49mlocation,\n\u001b[1;32m   1547\u001b[0m         include_dirs\u001b[39m=\u001b[39;49m\u001b[39mself\u001b[39;49m\u001b[39m.\u001b[39;49mheader_dirs(),\n\u001b[1;32m   1548\u001b[0m         lib_dirs\u001b[39m=\u001b[39;49m\u001b[39mself\u001b[39;49m\u001b[39m.\u001b[39;49mlib_dirs(),\n\u001b[1;32m   1549\u001b[0m         libs\u001b[39m=\u001b[39;49mlibs,\n\u001b[1;32m   1550\u001b[0m         preargs\u001b[39m=\u001b[39;49mpreargs,\n\u001b[1;32m   1551\u001b[0m     )\n\u001b[1;32m   1552\u001b[0m \u001b[39mexcept\u001b[39;00m \u001b[39mException\u001b[39;00m \u001b[39mas\u001b[39;00m e:\n\u001b[1;32m   1553\u001b[0m     e\u001b[39m.\u001b[39margs \u001b[39m+\u001b[39m\u001b[39m=\u001b[39m (\u001b[39mstr\u001b[39m(\u001b[39mself\u001b[39m\u001b[39m.\u001b[39mfgraph),)\n",
      "File \u001b[0;32m~/.pyenv/versions/3.8.10/lib/python3.8/site-packages/theano/link/c/cmodule.py:2546\u001b[0m, in \u001b[0;36mGCC_compiler.compile_str\u001b[0;34m(module_name, src_code, location, include_dirs, lib_dirs, libs, preargs, py_module, hide_symbols)\u001b[0m\n\u001b[1;32m   2542\u001b[0m     \u001b[39m# We replace '\\n' by '. ' in the error message because when Python\u001b[39;00m\n\u001b[1;32m   2543\u001b[0m     \u001b[39m# prints the exception, having '\\n' in the text makes it more\u001b[39;00m\n\u001b[1;32m   2544\u001b[0m     \u001b[39m# difficult to read.\u001b[39;00m\n\u001b[1;32m   2545\u001b[0m     compile_stderr \u001b[39m=\u001b[39m compile_stderr\u001b[39m.\u001b[39mreplace(\u001b[39m\"\u001b[39m\u001b[39m\\n\u001b[39;00m\u001b[39m\"\u001b[39m, \u001b[39m\"\u001b[39m\u001b[39m. \u001b[39m\u001b[39m\"\u001b[39m)\n\u001b[0;32m-> 2546\u001b[0m     \u001b[39mraise\u001b[39;00m \u001b[39mException\u001b[39;00m(\n\u001b[1;32m   2547\u001b[0m         \u001b[39mf\u001b[39m\u001b[39m\"\u001b[39m\u001b[39mCompilation failed (return status=\u001b[39m\u001b[39m{\u001b[39;00mstatus\u001b[39m}\u001b[39;00m\u001b[39m): \u001b[39m\u001b[39m{\u001b[39;00mcompile_stderr\u001b[39m}\u001b[39;00m\u001b[39m\"\u001b[39m\n\u001b[1;32m   2548\u001b[0m     )\n\u001b[1;32m   2549\u001b[0m \u001b[39melif\u001b[39;00m config\u001b[39m.\u001b[39mcmodule__compilation_warning \u001b[39mand\u001b[39;00m compile_stderr:\n\u001b[1;32m   2550\u001b[0m     \u001b[39m# Print errors just below the command line.\u001b[39;00m\n\u001b[1;32m   2551\u001b[0m     \u001b[39mprint\u001b[39m(compile_stderr)\n",
      "\u001b[0;31mException\u001b[0m: (\"Compilation failed (return status=1): /usr/bin/ld: /home/jan/.pyenv/versions/3.8.10/lib/libpython3.8.a(obmalloc.o): relocation R_X86_64_PC32 against symbol `stderr@@GLIBC_2.2.5' can not be used when making a shared object; recompile with -fPIC. /usr/bin/ld: final link failed: bad value. collect2: error: ld returned 1 exit status. \", 'FunctionGraph(Elemwise{true_div,no_inplace}(TensorConstant{1.0}, TensorConstant{1.0}))')"
     ]
    }
   ],
   "source": [
    "input, output = GetData()\n",
    "\n",
    "with pm.Model() as model:\n",
    "    # sigma = 1e-1\n",
    "    k1 = pm.Normal(\"k1\", mu=0, sigma=1)\n",
    "    k2 = pm.Normal(\"k2\", mu=0, sigma=1)\n",
    "    obs = pm.MvNormal(\"obs\", mu = np.array([k1,k2]), cov = sigma * np.eye(2), observed = output)\n",
    "\n",
    "print(model.basic_RVs)\n",
    "print(model.free_RVs)\n",
    "print(model.observed_RVs)"
   ]
  }
 ],
 "metadata": {
  "kernelspec": {
   "display_name": "Python 3",
   "language": "python",
   "name": "python3"
  },
  "language_info": {
   "codemirror_mode": {
    "name": "ipython",
    "version": 3
   },
   "file_extension": ".py",
   "mimetype": "text/x-python",
   "name": "python",
   "nbconvert_exporter": "python",
   "pygments_lexer": "ipython3",
   "version": "3.8.10"
  },
  "orig_nbformat": 4
 },
 "nbformat": 4,
 "nbformat_minor": 2
}
