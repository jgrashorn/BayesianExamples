{
 "cells": [
  {
   "cell_type": "code",
   "execution_count": null,
   "metadata": {},
   "outputs": [],
   "source": [
    "import numpy as np\n",
    "import pymc as pm\n",
    "from scipy.stats import norm\n",
    "from scipy import optimize\n",
    "import scipy.linalg as la\n",
    "\n",
    "def GetData():\n",
    "    # load data from input.csv and output.csv\n",
    "    # input.csv: model parameters used to generate the data (can be used to visualize samples vs actual parameters)\n",
    "    # output.csv: \"measured\" natural frequencies from input\n",
    "    input = np.genfromtxt(\"input.csv\",delimiter=',')\n",
    "    output = np.genfromtxt(\"output.csv\",delimiter=',')\n",
    "    return (input,output)\n",
    "\n",
    "def NatFreqModel(t1,t2):\n",
    "\n",
    "    k1 = t1\n",
    "    k2 = 1500\n",
    "    k3 = 1500\n",
    "    k4 = t2\n",
    "    \n",
    "    m = 100\n",
    "    \n",
    "    # masses\n",
    "    m1 = m\n",
    "    m2 = 2*m\n",
    "    m3 = 3*m\n",
    "    \n",
    "    M = np.array([[m1,0,0],[0,m2,0],[0,0,m3]])\n",
    "    K = np.array([[k1+k2,-k2,0],[-k2,k2+k3,-k3],[0,-k3,k3+k4]])\n",
    "    # some algorihtm to find the eigenvalues from (K-lambda*M) = 0 (I forgot the source sorry)\n",
    "    # scipy.linalg.eig(K,M) would do the same, but then the order of the output is changed, so I left it at this\n",
    "    a = -m1*m2*m3\n",
    "    b = K[0,0]*m2*m3+m1*K[1,1]*m3 + m1*m2*K[2,2]\n",
    "    c = -K[0,0]*K[1,1]*m3 - K[0,0]*K[2,2]*m2 - K[1,1]*K[2,2]*m1+K[1,2]*K[2,1]*m1+K[0,1]*K[1,0]*m3\n",
    "    d = K[0,0]*K[1,1]*K[2,2]-K[0,0]*K[1,2]*K[2,1]-K[0,1]*K[1,0]*K[2,2]\n",
    "    \n",
    "    p = 3*a*c-b**2\n",
    "    q = 2*b**3-9*a*b*c+27*a**2*d\n",
    "    phi = np.arccos(-q/(2*np.sqrt(-p**3)))\n",
    "    y = np.sqrt(-p)*2*np.cos(phi/3+np.array([0,1,2])*2*np.pi/(3))\n",
    "\n",
    "    eigFreq = (y-b)/(3*a) # 1x3 array with the natural frequencies\n",
    "\n",
    "    return eigFreq"
   ]
  },
  {
   "cell_type": "code",
   "execution_count": null,
   "metadata": {},
   "outputs": [],
   "source": [
    "input, data = GetData() # load data\n",
    "\n",
    "sigma_noise = 0.1 # Your actual noise standard deviation here\n",
    "\n",
    "with pm.Model() as model:\n",
    "    # Define priors on theta\n",
    "    # theta = pm.Normal('theta', mu=0, sd=1, shape=n_theta)\n",
    "    k1 = pm.Uniform('k1', lower=500, upper=3500)\n",
    "    k4 = pm.Uniform('k4', lower=500, upper=3500)\n",
    "    \n",
    "#     # Define likelihood\n",
    "    likelihood = pm.Normal('likelihood', NatFreqModel(k1,k4), sigma=sigma_noise, observed=data)\n",
    "\n",
    "#     # Perform MCMC sampling\n",
    "    trace = pm.sample(2000, tune=500, cores=2)\n"
   ]
  },
  {
   "cell_type": "code",
   "execution_count": null,
   "metadata": {},
   "outputs": [],
   "source": [
    "# summarizing the posterior\n",
    "pm.summary(trace)\n",
    "\n",
    "# plotting the posterior\n",
    "pm.plot_trace(trace)\n",
    "\n",
    "pm.plot_pair(trace)"
   ]
  }
 ],
 "metadata": {
  "kernelspec": {
   "display_name": "Python 3",
   "language": "python",
   "name": "python3"
  },
  "language_info": {
   "codemirror_mode": {
    "name": "ipython",
    "version": 3
   },
   "file_extension": ".py",
   "mimetype": "text/x-python",
   "name": "python",
   "nbconvert_exporter": "python",
   "pygments_lexer": "ipython3",
   "version": "3.11.3"
  },
  "orig_nbformat": 4
 },
 "nbformat": 4,
 "nbformat_minor": 2
}
